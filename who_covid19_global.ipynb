{
 "cells": [
  {
   "cell_type": "code",
   "execution_count": 1,
   "id": "5c3e1288-877e-41e2-b33b-5f2e9786b0b0",
   "metadata": {},
   "outputs": [],
   "source": [
    "import pandas as pd\n",
    "import matplotlib.pyplot as plt"
   ]
  },
  {
   "cell_type": "markdown",
   "id": "8adc6b04-d4a8-4c6a-92f9-61ec74c32e10",
   "metadata": {},
   "source": [
    "#### parse csv to df"
   ]
  },
  {
   "cell_type": "code",
   "execution_count": 2,
   "id": "ed955310-9cae-41e5-8bad-76b2522273a0",
   "metadata": {},
   "outputs": [],
   "source": [
    "covid = pd.read_csv('WHO-COVID-19-global-data.csv')"
   ]
  },
  {
   "cell_type": "markdown",
   "id": "f6a51150-a9b1-4003-8c9f-cae4e97f9e55",
   "metadata": {},
   "source": [
    "#### inspect df"
   ]
  },
  {
   "cell_type": "code",
   "execution_count": 3,
   "id": "5fc82871-e72a-40ea-a392-40de36c4008b",
   "metadata": {},
   "outputs": [
    {
     "name": "stdout",
     "output_type": "stream",
     "text": [
      "<class 'pandas.core.frame.DataFrame'>\n",
      "RangeIndex: 52320 entries, 0 to 52319\n",
      "Data columns (total 8 columns):\n",
      " #   Column             Non-Null Count  Dtype  \n",
      "---  ------             --------------  -----  \n",
      " 0   Date_reported      52320 non-null  object \n",
      " 1   Country_code       52102 non-null  object \n",
      " 2   Country            52320 non-null  object \n",
      " 3   WHO_region         48396 non-null  object \n",
      " 4   New_cases          36648 non-null  float64\n",
      " 5   Cumulative_cases   52320 non-null  int64  \n",
      " 6   New_deaths         24280 non-null  float64\n",
      " 7   Cumulative_deaths  52320 non-null  int64  \n",
      "dtypes: float64(2), int64(2), object(4)\n",
      "memory usage: 3.2+ MB\n"
     ]
    }
   ],
   "source": [
    "covid.info()"
   ]
  },
  {
   "cell_type": "code",
   "execution_count": 4,
   "id": "77e49e03-5c4e-4207-9201-2a025e00486e",
   "metadata": {},
   "outputs": [
    {
     "data": {
      "text/plain": [
       "Date_reported         object\n",
       "Country_code          object\n",
       "Country               object\n",
       "WHO_region            object\n",
       "New_cases            float64\n",
       "Cumulative_cases       int64\n",
       "New_deaths           float64\n",
       "Cumulative_deaths      int64\n",
       "dtype: object"
      ]
     },
     "execution_count": 4,
     "metadata": {},
     "output_type": "execute_result"
    }
   ],
   "source": [
    "covid.dtypes"
   ]
  },
  {
   "cell_type": "code",
   "execution_count": 5,
   "id": "ea3e946a-d5de-4f7e-ad06-8539985c7a7f",
   "metadata": {},
   "outputs": [],
   "source": [
    "covid[\"Date_reported\"] = pd.to_datetime(covid[\"Date_reported\"])"
   ]
  },
  {
   "cell_type": "code",
   "execution_count": 6,
   "id": "81331c1a-f5b8-467c-8446-f658f365e9ae",
   "metadata": {},
   "outputs": [
    {
     "data": {
      "text/plain": [
       "Date_reported        datetime64[ns]\n",
       "Country_code                 object\n",
       "Country                      object\n",
       "WHO_region                   object\n",
       "New_cases                   float64\n",
       "Cumulative_cases              int64\n",
       "New_deaths                  float64\n",
       "Cumulative_deaths             int64\n",
       "dtype: object"
      ]
     },
     "execution_count": 6,
     "metadata": {},
     "output_type": "execute_result"
    }
   ],
   "source": [
    "covid.dtypes"
   ]
  },
  {
   "cell_type": "code",
   "execution_count": 7,
   "id": "89082eb9-28d2-4784-9559-fc1947d813f3",
   "metadata": {},
   "outputs": [
    {
     "name": "stdout",
     "output_type": "stream",
     "text": [
      "<class 'pandas.core.frame.DataFrame'>\n",
      "RangeIndex: 52320 entries, 0 to 52319\n",
      "Data columns (total 8 columns):\n",
      " #   Column             Non-Null Count  Dtype         \n",
      "---  ------             --------------  -----         \n",
      " 0   Date_reported      52320 non-null  datetime64[ns]\n",
      " 1   Country_code       52102 non-null  object        \n",
      " 2   Country            52320 non-null  object        \n",
      " 3   WHO_region         48396 non-null  object        \n",
      " 4   New_cases          36648 non-null  float64       \n",
      " 5   Cumulative_cases   52320 non-null  int64         \n",
      " 6   New_deaths         24280 non-null  float64       \n",
      " 7   Cumulative_deaths  52320 non-null  int64         \n",
      "dtypes: datetime64[ns](1), float64(2), int64(2), object(3)\n",
      "memory usage: 3.2+ MB\n"
     ]
    }
   ],
   "source": [
    "covid.info()"
   ]
  },
  {
   "cell_type": "code",
   "execution_count": 8,
   "id": "b94c7d07-ae98-4cef-a101-8e3cea9b5d2f",
   "metadata": {},
   "outputs": [
    {
     "data": {
      "text/html": [
       "<div>\n",
       "<style scoped>\n",
       "    .dataframe tbody tr th:only-of-type {\n",
       "        vertical-align: middle;\n",
       "    }\n",
       "\n",
       "    .dataframe tbody tr th {\n",
       "        vertical-align: top;\n",
       "    }\n",
       "\n",
       "    .dataframe thead th {\n",
       "        text-align: right;\n",
       "    }\n",
       "</style>\n",
       "<table border=\"1\" class=\"dataframe\">\n",
       "  <thead>\n",
       "    <tr style=\"text-align: right;\">\n",
       "      <th></th>\n",
       "      <th>Date_reported</th>\n",
       "      <th>New_cases</th>\n",
       "      <th>Cumulative_cases</th>\n",
       "      <th>New_deaths</th>\n",
       "      <th>Cumulative_deaths</th>\n",
       "    </tr>\n",
       "  </thead>\n",
       "  <tbody>\n",
       "    <tr>\n",
       "      <th>count</th>\n",
       "      <td>52320</td>\n",
       "      <td>3.664800e+04</td>\n",
       "      <td>5.232000e+04</td>\n",
       "      <td>24280.000000</td>\n",
       "      <td>5.232000e+04</td>\n",
       "    </tr>\n",
       "    <tr>\n",
       "      <th>mean</th>\n",
       "      <td>2022-02-02 12:00:00.000000256</td>\n",
       "      <td>2.114261e+04</td>\n",
       "      <td>1.640855e+06</td>\n",
       "      <td>289.827306</td>\n",
       "      <td>1.902179e+04</td>\n",
       "    </tr>\n",
       "    <tr>\n",
       "      <th>min</th>\n",
       "      <td>2020-01-05 00:00:00</td>\n",
       "      <td>-6.507900e+04</td>\n",
       "      <td>0.000000e+00</td>\n",
       "      <td>-3432.000000</td>\n",
       "      <td>0.000000e+00</td>\n",
       "    </tr>\n",
       "    <tr>\n",
       "      <th>25%</th>\n",
       "      <td>2021-01-17 00:00:00</td>\n",
       "      <td>5.200000e+01</td>\n",
       "      <td>3.067750e+03</td>\n",
       "      <td>4.000000</td>\n",
       "      <td>2.100000e+01</td>\n",
       "    </tr>\n",
       "    <tr>\n",
       "      <th>50%</th>\n",
       "      <td>2022-02-02 12:00:00</td>\n",
       "      <td>4.725000e+02</td>\n",
       "      <td>3.951300e+04</td>\n",
       "      <td>21.000000</td>\n",
       "      <td>4.175000e+02</td>\n",
       "    </tr>\n",
       "    <tr>\n",
       "      <th>75%</th>\n",
       "      <td>2023-02-19 00:00:00</td>\n",
       "      <td>4.516500e+03</td>\n",
       "      <td>4.866835e+05</td>\n",
       "      <td>110.000000</td>\n",
       "      <td>6.346250e+03</td>\n",
       "    </tr>\n",
       "    <tr>\n",
       "      <th>max</th>\n",
       "      <td>2024-03-03 00:00:00</td>\n",
       "      <td>4.047548e+07</td>\n",
       "      <td>1.034368e+08</td>\n",
       "      <td>47687.000000</td>\n",
       "      <td>1.180025e+06</td>\n",
       "    </tr>\n",
       "    <tr>\n",
       "      <th>std</th>\n",
       "      <td>NaN</td>\n",
       "      <td>2.793896e+05</td>\n",
       "      <td>7.320649e+06</td>\n",
       "      <td>1231.298768</td>\n",
       "      <td>7.889061e+04</td>\n",
       "    </tr>\n",
       "  </tbody>\n",
       "</table>\n",
       "</div>"
      ],
      "text/plain": [
       "                       Date_reported     New_cases  Cumulative_cases  \\\n",
       "count                          52320  3.664800e+04      5.232000e+04   \n",
       "mean   2022-02-02 12:00:00.000000256  2.114261e+04      1.640855e+06   \n",
       "min              2020-01-05 00:00:00 -6.507900e+04      0.000000e+00   \n",
       "25%              2021-01-17 00:00:00  5.200000e+01      3.067750e+03   \n",
       "50%              2022-02-02 12:00:00  4.725000e+02      3.951300e+04   \n",
       "75%              2023-02-19 00:00:00  4.516500e+03      4.866835e+05   \n",
       "max              2024-03-03 00:00:00  4.047548e+07      1.034368e+08   \n",
       "std                              NaN  2.793896e+05      7.320649e+06   \n",
       "\n",
       "         New_deaths  Cumulative_deaths  \n",
       "count  24280.000000       5.232000e+04  \n",
       "mean     289.827306       1.902179e+04  \n",
       "min    -3432.000000       0.000000e+00  \n",
       "25%        4.000000       2.100000e+01  \n",
       "50%       21.000000       4.175000e+02  \n",
       "75%      110.000000       6.346250e+03  \n",
       "max    47687.000000       1.180025e+06  \n",
       "std     1231.298768       7.889061e+04  "
      ]
     },
     "execution_count": 8,
     "metadata": {},
     "output_type": "execute_result"
    }
   ],
   "source": [
    "covid.describe()"
   ]
  },
  {
   "cell_type": "code",
   "execution_count": 9,
   "id": "28b4382c-eff0-42b7-94d7-45a1a054edb4",
   "metadata": {},
   "outputs": [
    {
     "data": {
      "text/html": [
       "<div>\n",
       "<style scoped>\n",
       "    .dataframe tbody tr th:only-of-type {\n",
       "        vertical-align: middle;\n",
       "    }\n",
       "\n",
       "    .dataframe tbody tr th {\n",
       "        vertical-align: top;\n",
       "    }\n",
       "\n",
       "    .dataframe thead th {\n",
       "        text-align: right;\n",
       "    }\n",
       "</style>\n",
       "<table border=\"1\" class=\"dataframe\">\n",
       "  <thead>\n",
       "    <tr style=\"text-align: right;\">\n",
       "      <th></th>\n",
       "      <th>Date_reported</th>\n",
       "      <th>Country_code</th>\n",
       "      <th>Country</th>\n",
       "      <th>WHO_region</th>\n",
       "      <th>New_cases</th>\n",
       "      <th>Cumulative_cases</th>\n",
       "      <th>New_deaths</th>\n",
       "      <th>Cumulative_deaths</th>\n",
       "    </tr>\n",
       "  </thead>\n",
       "  <tbody>\n",
       "    <tr>\n",
       "      <th>0</th>\n",
       "      <td>2020-01-05</td>\n",
       "      <td>AF</td>\n",
       "      <td>Afghanistan</td>\n",
       "      <td>EMRO</td>\n",
       "      <td>NaN</td>\n",
       "      <td>0</td>\n",
       "      <td>NaN</td>\n",
       "      <td>0</td>\n",
       "    </tr>\n",
       "    <tr>\n",
       "      <th>1</th>\n",
       "      <td>2020-01-12</td>\n",
       "      <td>AF</td>\n",
       "      <td>Afghanistan</td>\n",
       "      <td>EMRO</td>\n",
       "      <td>NaN</td>\n",
       "      <td>0</td>\n",
       "      <td>NaN</td>\n",
       "      <td>0</td>\n",
       "    </tr>\n",
       "    <tr>\n",
       "      <th>2</th>\n",
       "      <td>2020-01-19</td>\n",
       "      <td>AF</td>\n",
       "      <td>Afghanistan</td>\n",
       "      <td>EMRO</td>\n",
       "      <td>NaN</td>\n",
       "      <td>0</td>\n",
       "      <td>NaN</td>\n",
       "      <td>0</td>\n",
       "    </tr>\n",
       "    <tr>\n",
       "      <th>3</th>\n",
       "      <td>2020-01-26</td>\n",
       "      <td>AF</td>\n",
       "      <td>Afghanistan</td>\n",
       "      <td>EMRO</td>\n",
       "      <td>NaN</td>\n",
       "      <td>0</td>\n",
       "      <td>NaN</td>\n",
       "      <td>0</td>\n",
       "    </tr>\n",
       "    <tr>\n",
       "      <th>4</th>\n",
       "      <td>2020-02-02</td>\n",
       "      <td>AF</td>\n",
       "      <td>Afghanistan</td>\n",
       "      <td>EMRO</td>\n",
       "      <td>NaN</td>\n",
       "      <td>0</td>\n",
       "      <td>NaN</td>\n",
       "      <td>0</td>\n",
       "    </tr>\n",
       "  </tbody>\n",
       "</table>\n",
       "</div>"
      ],
      "text/plain": [
       "  Date_reported Country_code      Country WHO_region  New_cases  \\\n",
       "0    2020-01-05           AF  Afghanistan       EMRO        NaN   \n",
       "1    2020-01-12           AF  Afghanistan       EMRO        NaN   \n",
       "2    2020-01-19           AF  Afghanistan       EMRO        NaN   \n",
       "3    2020-01-26           AF  Afghanistan       EMRO        NaN   \n",
       "4    2020-02-02           AF  Afghanistan       EMRO        NaN   \n",
       "\n",
       "   Cumulative_cases  New_deaths  Cumulative_deaths  \n",
       "0                 0         NaN                  0  \n",
       "1                 0         NaN                  0  \n",
       "2                 0         NaN                  0  \n",
       "3                 0         NaN                  0  \n",
       "4                 0         NaN                  0  "
      ]
     },
     "execution_count": 9,
     "metadata": {},
     "output_type": "execute_result"
    }
   ],
   "source": [
    "covid.head()"
   ]
  },
  {
   "cell_type": "code",
   "execution_count": 10,
   "id": "9f9c301c-ccbc-41bd-8bc2-92a84f648bb3",
   "metadata": {},
   "outputs": [
    {
     "data": {
      "text/html": [
       "<div>\n",
       "<style scoped>\n",
       "    .dataframe tbody tr th:only-of-type {\n",
       "        vertical-align: middle;\n",
       "    }\n",
       "\n",
       "    .dataframe tbody tr th {\n",
       "        vertical-align: top;\n",
       "    }\n",
       "\n",
       "    .dataframe thead th {\n",
       "        text-align: right;\n",
       "    }\n",
       "</style>\n",
       "<table border=\"1\" class=\"dataframe\">\n",
       "  <thead>\n",
       "    <tr style=\"text-align: right;\">\n",
       "      <th></th>\n",
       "      <th>Date_reported</th>\n",
       "      <th>Country_code</th>\n",
       "      <th>Country</th>\n",
       "      <th>WHO_region</th>\n",
       "      <th>New_cases</th>\n",
       "      <th>Cumulative_cases</th>\n",
       "      <th>New_deaths</th>\n",
       "      <th>Cumulative_deaths</th>\n",
       "    </tr>\n",
       "  </thead>\n",
       "  <tbody>\n",
       "    <tr>\n",
       "      <th>52315</th>\n",
       "      <td>2024-02-04</td>\n",
       "      <td>ZW</td>\n",
       "      <td>Zimbabwe</td>\n",
       "      <td>AFRO</td>\n",
       "      <td>31.0</td>\n",
       "      <td>266319</td>\n",
       "      <td>NaN</td>\n",
       "      <td>5737</td>\n",
       "    </tr>\n",
       "    <tr>\n",
       "      <th>52316</th>\n",
       "      <td>2024-02-11</td>\n",
       "      <td>ZW</td>\n",
       "      <td>Zimbabwe</td>\n",
       "      <td>AFRO</td>\n",
       "      <td>9.0</td>\n",
       "      <td>266328</td>\n",
       "      <td>NaN</td>\n",
       "      <td>5737</td>\n",
       "    </tr>\n",
       "    <tr>\n",
       "      <th>52317</th>\n",
       "      <td>2024-02-18</td>\n",
       "      <td>ZW</td>\n",
       "      <td>Zimbabwe</td>\n",
       "      <td>AFRO</td>\n",
       "      <td>22.0</td>\n",
       "      <td>266350</td>\n",
       "      <td>NaN</td>\n",
       "      <td>5737</td>\n",
       "    </tr>\n",
       "    <tr>\n",
       "      <th>52318</th>\n",
       "      <td>2024-02-25</td>\n",
       "      <td>ZW</td>\n",
       "      <td>Zimbabwe</td>\n",
       "      <td>AFRO</td>\n",
       "      <td>5.0</td>\n",
       "      <td>266355</td>\n",
       "      <td>2.0</td>\n",
       "      <td>5739</td>\n",
       "    </tr>\n",
       "    <tr>\n",
       "      <th>52319</th>\n",
       "      <td>2024-03-03</td>\n",
       "      <td>ZW</td>\n",
       "      <td>Zimbabwe</td>\n",
       "      <td>AFRO</td>\n",
       "      <td>3.0</td>\n",
       "      <td>266358</td>\n",
       "      <td>1.0</td>\n",
       "      <td>5740</td>\n",
       "    </tr>\n",
       "  </tbody>\n",
       "</table>\n",
       "</div>"
      ],
      "text/plain": [
       "      Date_reported Country_code   Country WHO_region  New_cases  \\\n",
       "52315    2024-02-04           ZW  Zimbabwe       AFRO       31.0   \n",
       "52316    2024-02-11           ZW  Zimbabwe       AFRO        9.0   \n",
       "52317    2024-02-18           ZW  Zimbabwe       AFRO       22.0   \n",
       "52318    2024-02-25           ZW  Zimbabwe       AFRO        5.0   \n",
       "52319    2024-03-03           ZW  Zimbabwe       AFRO        3.0   \n",
       "\n",
       "       Cumulative_cases  New_deaths  Cumulative_deaths  \n",
       "52315            266319         NaN               5737  \n",
       "52316            266328         NaN               5737  \n",
       "52317            266350         NaN               5737  \n",
       "52318            266355         2.0               5739  \n",
       "52319            266358         1.0               5740  "
      ]
     },
     "execution_count": 10,
     "metadata": {},
     "output_type": "execute_result"
    }
   ],
   "source": [
    "covid.tail()"
   ]
  },
  {
   "cell_type": "markdown",
   "id": "17e2b74f-ffb4-455e-9352-4cf302608b9b",
   "metadata": {},
   "source": [
    "### Cumulative cases for a country in a year"
   ]
  },
  {
   "cell_type": "code",
   "execution_count": 11,
   "id": "5158925a-366e-4e03-acb5-dc64b0c5cd23",
   "metadata": {},
   "outputs": [
    {
     "data": {
      "image/png": "[encoded data removed]",
      "text/plain": [
       "<Figure size 640x480 with 1 Axes>"
      ]
     },
     "metadata": {},
     "output_type": "display_data"
    }
   ],
   "source": [
    "def annual_covid(country_name: str, for_year: int):\n",
    "    # create an intermediary dataframe filtered on year and country\n",
    "    per_country_per_year = covid[(covid[\"Country\"] == country_name) & (covid[\"Date_reported\"].dt.year == for_year)]\n",
    "    plt.plot(per_country_per_year[\"Date_reported\"].dt.month, per_country_per_year[\"Cumulative_cases\"])\n",
    "    plt.plot(per_country_per_year[\"Date_reported\"].dt.month, per_country_per_year[\"Cumulative_cases\"])\n",
    "    plt.show()\n",
    "\n",
    "annual_covid('Kenya', 2023)"
   ]
  },
  {
   "cell_type": "code",
   "execution_count": 12,
   "id": "34727874-773b-4cbc-987b-08b924141146",
   "metadata": {},
   "outputs": [
    {
     "data": {
      "image/png": "[encoded data removed]",
      "text/plain": [
       "<Figure size 640x480 with 1 Axes>"
      ]
     },
     "metadata": {},
     "output_type": "display_data"
    }
   ],
   "source": [
    "def annual_covid(country_name: str, for_year: int):\n",
    "    # create an intermediary dataframe filtered on year and country\n",
    "    per_country_per_year = covid[(covid[\"Country\"] == country_name) & (covid[\"Date_reported\"].dt.year == for_year)]\n",
    "    plt.plot(per_country_per_year[\"Date_reported\"].dt.month, per_country_per_year[\"Cumulative_cases\"])\n",
    "    plt.plot(per_country_per_year[\"Date_reported\"].dt.month, per_country_per_year[\"Cumulative_cases\"])\n",
    "    plt.show()\n",
    "\n",
    "annual_covid('Kenya', 2023)"
   ]
  },
  {
   "cell_type": "code",
   "execution_count": 13,
   "id": "962a9937-8df7-4027-965e-901f031f0196",
   "metadata": {},
   "outputs": [
    {
     "data": {
      "text/plain": [
       "<Axes: >"
      ]
     },
     "execution_count": 13,
     "metadata": {},
     "output_type": "execute_result"
    },
    {
     "data": {
      "image/png": "[encoded data removed]",
      "text/plain": [
       "<Figure size 640x480 with 1 Axes>"
      ]
     },
     "metadata": {},
     "output_type": "display_data"
    }
   ],
   "source": [
    "covid.isna().sum().plot(kind='bar')"
   ]
  }
 ],
 "metadata": {
  "kernelspec": {
   "display_name": "Python 3 (ipykernel)",
   "language": "python",
   "name": "python3"
  },
  "language_info": {
   "codemirror_mode": {
    "name": "ipython",
    "version": 3
   },
   "file_extension": ".py",
   "mimetype": "text/x-python",
   "name": "python",
   "nbconvert_exporter": "python",
   "pygments_lexer": "ipython3",
   "version": "3.10.0"
  }
 },
 "nbformat": 4,
 "nbformat_minor": 5
}
